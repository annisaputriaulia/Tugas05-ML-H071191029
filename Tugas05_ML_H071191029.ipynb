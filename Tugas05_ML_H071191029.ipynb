{
  "nbformat": 4,
  "nbformat_minor": 0,
  "metadata": {
    "colab": {
      "name": "Tugas05_ML_H071191029.ipynb",
      "provenance": []
    },
    "kernelspec": {
      "name": "python3",
      "display_name": "Python 3"
    },
    "language_info": {
      "name": "python"
    }
  },
  "cells": [
    {
      "cell_type": "markdown",
      "metadata": {
        "id": "BBmEui1xZ0Xw"
      },
      "source": [
        "Nama : Annisa Putri Aulia\n",
        "\n",
        "Nim : H071191029\n",
        "\n",
        "Tugas Machine Learning"
      ]
    },
    {
      "cell_type": "code",
      "metadata": {
        "id": "v19BldB-bZOD"
      },
      "source": [
        "import pandas as pd\n",
        "from sklearn.model_selection import train_test_split\n",
        "from sklearn import svm\n",
        "\n",
        "#import module bagian pengukuran kinerja\n",
        "from sklearn.metrics import classification_report\n",
        "from sklearn.metrics import confusion_matrix\n",
        "from sklearn.metrics import cohen_kappa_score\n",
        "from sklearn.metrics import fbeta_score\n",
        "from sklearn.metrics import roc_auc_score"
      ],
      "execution_count": 18,
      "outputs": []
    },
    {
      "cell_type": "code",
      "metadata": {
        "id": "WGQJ1xM4bpS0",
        "colab": {
          "base_uri": "https://localhost:8080/",
          "height": 853
        },
        "outputId": "2a7284d8-06e4-4c9b-c92f-5ffaaa4ca0db"
      },
      "source": [
        "#untuk import data dan dijadikan dataframe\n",
        "df = pd.read_csv(\"data.csv\")\n",
        "df.head(25)"
      ],
      "execution_count": 19,
      "outputs": [
        {
          "output_type": "execute_result",
          "data": {
            "text/html": [
              "<div>\n",
              "<style scoped>\n",
              "    .dataframe tbody tr th:only-of-type {\n",
              "        vertical-align: middle;\n",
              "    }\n",
              "\n",
              "    .dataframe tbody tr th {\n",
              "        vertical-align: top;\n",
              "    }\n",
              "\n",
              "    .dataframe thead th {\n",
              "        text-align: right;\n",
              "    }\n",
              "</style>\n",
              "<table border=\"1\" class=\"dataframe\">\n",
              "  <thead>\n",
              "    <tr style=\"text-align: right;\">\n",
              "      <th></th>\n",
              "      <th>danceability</th>\n",
              "      <th>energy</th>\n",
              "      <th>key</th>\n",
              "      <th>loudness</th>\n",
              "      <th>mode</th>\n",
              "      <th>speechiness</th>\n",
              "      <th>acousticness</th>\n",
              "      <th>instrumentalness</th>\n",
              "      <th>liveness</th>\n",
              "      <th>valence</th>\n",
              "      <th>tempo</th>\n",
              "      <th>duration_ms</th>\n",
              "      <th>time_signature</th>\n",
              "      <th>liked</th>\n",
              "    </tr>\n",
              "  </thead>\n",
              "  <tbody>\n",
              "    <tr>\n",
              "      <th>0</th>\n",
              "      <td>0.803</td>\n",
              "      <td>0.6240</td>\n",
              "      <td>7</td>\n",
              "      <td>-6.764</td>\n",
              "      <td>0</td>\n",
              "      <td>0.0477</td>\n",
              "      <td>0.451000</td>\n",
              "      <td>0.000734</td>\n",
              "      <td>0.1000</td>\n",
              "      <td>0.6280</td>\n",
              "      <td>95.968</td>\n",
              "      <td>304524</td>\n",
              "      <td>4</td>\n",
              "      <td>0</td>\n",
              "    </tr>\n",
              "    <tr>\n",
              "      <th>1</th>\n",
              "      <td>0.762</td>\n",
              "      <td>0.7030</td>\n",
              "      <td>10</td>\n",
              "      <td>-7.951</td>\n",
              "      <td>0</td>\n",
              "      <td>0.3060</td>\n",
              "      <td>0.206000</td>\n",
              "      <td>0.000000</td>\n",
              "      <td>0.0912</td>\n",
              "      <td>0.5190</td>\n",
              "      <td>151.329</td>\n",
              "      <td>247178</td>\n",
              "      <td>4</td>\n",
              "      <td>1</td>\n",
              "    </tr>\n",
              "    <tr>\n",
              "      <th>2</th>\n",
              "      <td>0.261</td>\n",
              "      <td>0.0149</td>\n",
              "      <td>1</td>\n",
              "      <td>-27.528</td>\n",
              "      <td>1</td>\n",
              "      <td>0.0419</td>\n",
              "      <td>0.992000</td>\n",
              "      <td>0.897000</td>\n",
              "      <td>0.1020</td>\n",
              "      <td>0.0382</td>\n",
              "      <td>75.296</td>\n",
              "      <td>286987</td>\n",
              "      <td>4</td>\n",
              "      <td>0</td>\n",
              "    </tr>\n",
              "    <tr>\n",
              "      <th>3</th>\n",
              "      <td>0.722</td>\n",
              "      <td>0.7360</td>\n",
              "      <td>3</td>\n",
              "      <td>-6.994</td>\n",
              "      <td>0</td>\n",
              "      <td>0.0585</td>\n",
              "      <td>0.431000</td>\n",
              "      <td>0.000001</td>\n",
              "      <td>0.1230</td>\n",
              "      <td>0.5820</td>\n",
              "      <td>89.860</td>\n",
              "      <td>208920</td>\n",
              "      <td>4</td>\n",
              "      <td>1</td>\n",
              "    </tr>\n",
              "    <tr>\n",
              "      <th>4</th>\n",
              "      <td>0.787</td>\n",
              "      <td>0.5720</td>\n",
              "      <td>1</td>\n",
              "      <td>-7.516</td>\n",
              "      <td>1</td>\n",
              "      <td>0.2220</td>\n",
              "      <td>0.145000</td>\n",
              "      <td>0.000000</td>\n",
              "      <td>0.0753</td>\n",
              "      <td>0.6470</td>\n",
              "      <td>155.117</td>\n",
              "      <td>179413</td>\n",
              "      <td>4</td>\n",
              "      <td>1</td>\n",
              "    </tr>\n",
              "    <tr>\n",
              "      <th>5</th>\n",
              "      <td>0.778</td>\n",
              "      <td>0.6320</td>\n",
              "      <td>8</td>\n",
              "      <td>-6.415</td>\n",
              "      <td>1</td>\n",
              "      <td>0.1250</td>\n",
              "      <td>0.040400</td>\n",
              "      <td>0.000000</td>\n",
              "      <td>0.0912</td>\n",
              "      <td>0.8270</td>\n",
              "      <td>140.951</td>\n",
              "      <td>224029</td>\n",
              "      <td>4</td>\n",
              "      <td>1</td>\n",
              "    </tr>\n",
              "    <tr>\n",
              "      <th>6</th>\n",
              "      <td>0.666</td>\n",
              "      <td>0.5890</td>\n",
              "      <td>0</td>\n",
              "      <td>-8.405</td>\n",
              "      <td>0</td>\n",
              "      <td>0.3240</td>\n",
              "      <td>0.555000</td>\n",
              "      <td>0.000000</td>\n",
              "      <td>0.1140</td>\n",
              "      <td>0.7760</td>\n",
              "      <td>74.974</td>\n",
              "      <td>146053</td>\n",
              "      <td>4</td>\n",
              "      <td>1</td>\n",
              "    </tr>\n",
              "    <tr>\n",
              "      <th>7</th>\n",
              "      <td>0.922</td>\n",
              "      <td>0.7120</td>\n",
              "      <td>7</td>\n",
              "      <td>-6.024</td>\n",
              "      <td>1</td>\n",
              "      <td>0.1710</td>\n",
              "      <td>0.077900</td>\n",
              "      <td>0.000040</td>\n",
              "      <td>0.1750</td>\n",
              "      <td>0.9040</td>\n",
              "      <td>104.964</td>\n",
              "      <td>161800</td>\n",
              "      <td>4</td>\n",
              "      <td>1</td>\n",
              "    </tr>\n",
              "    <tr>\n",
              "      <th>8</th>\n",
              "      <td>0.794</td>\n",
              "      <td>0.6590</td>\n",
              "      <td>7</td>\n",
              "      <td>-7.063</td>\n",
              "      <td>0</td>\n",
              "      <td>0.0498</td>\n",
              "      <td>0.143000</td>\n",
              "      <td>0.002240</td>\n",
              "      <td>0.0944</td>\n",
              "      <td>0.3080</td>\n",
              "      <td>112.019</td>\n",
              "      <td>247460</td>\n",
              "      <td>4</td>\n",
              "      <td>0</td>\n",
              "    </tr>\n",
              "    <tr>\n",
              "      <th>9</th>\n",
              "      <td>0.853</td>\n",
              "      <td>0.6680</td>\n",
              "      <td>3</td>\n",
              "      <td>-6.995</td>\n",
              "      <td>1</td>\n",
              "      <td>0.4470</td>\n",
              "      <td>0.263000</td>\n",
              "      <td>0.000000</td>\n",
              "      <td>0.1040</td>\n",
              "      <td>0.7450</td>\n",
              "      <td>157.995</td>\n",
              "      <td>165363</td>\n",
              "      <td>4</td>\n",
              "      <td>1</td>\n",
              "    </tr>\n",
              "    <tr>\n",
              "      <th>10</th>\n",
              "      <td>0.297</td>\n",
              "      <td>0.9930</td>\n",
              "      <td>9</td>\n",
              "      <td>-7.173</td>\n",
              "      <td>1</td>\n",
              "      <td>0.1180</td>\n",
              "      <td>0.000057</td>\n",
              "      <td>0.770000</td>\n",
              "      <td>0.0766</td>\n",
              "      <td>0.1780</td>\n",
              "      <td>127.693</td>\n",
              "      <td>182427</td>\n",
              "      <td>4</td>\n",
              "      <td>0</td>\n",
              "    </tr>\n",
              "    <tr>\n",
              "      <th>11</th>\n",
              "      <td>0.816</td>\n",
              "      <td>0.4330</td>\n",
              "      <td>1</td>\n",
              "      <td>-9.190</td>\n",
              "      <td>1</td>\n",
              "      <td>0.2410</td>\n",
              "      <td>0.004710</td>\n",
              "      <td>0.000000</td>\n",
              "      <td>0.1320</td>\n",
              "      <td>0.6760</td>\n",
              "      <td>147.942</td>\n",
              "      <td>225000</td>\n",
              "      <td>4</td>\n",
              "      <td>1</td>\n",
              "    </tr>\n",
              "    <tr>\n",
              "      <th>12</th>\n",
              "      <td>0.297</td>\n",
              "      <td>0.9730</td>\n",
              "      <td>1</td>\n",
              "      <td>-4.505</td>\n",
              "      <td>1</td>\n",
              "      <td>0.1510</td>\n",
              "      <td>0.001460</td>\n",
              "      <td>0.918000</td>\n",
              "      <td>0.1390</td>\n",
              "      <td>0.2340</td>\n",
              "      <td>102.757</td>\n",
              "      <td>170520</td>\n",
              "      <td>4</td>\n",
              "      <td>0</td>\n",
              "    </tr>\n",
              "    <tr>\n",
              "      <th>13</th>\n",
              "      <td>0.564</td>\n",
              "      <td>0.7430</td>\n",
              "      <td>6</td>\n",
              "      <td>-5.782</td>\n",
              "      <td>1</td>\n",
              "      <td>0.2200</td>\n",
              "      <td>0.584000</td>\n",
              "      <td>0.000000</td>\n",
              "      <td>0.1010</td>\n",
              "      <td>0.1910</td>\n",
              "      <td>168.849</td>\n",
              "      <td>185667</td>\n",
              "      <td>4</td>\n",
              "      <td>1</td>\n",
              "    </tr>\n",
              "    <tr>\n",
              "      <th>14</th>\n",
              "      <td>0.640</td>\n",
              "      <td>0.9570</td>\n",
              "      <td>8</td>\n",
              "      <td>-2.336</td>\n",
              "      <td>1</td>\n",
              "      <td>0.0741</td>\n",
              "      <td>0.043100</td>\n",
              "      <td>0.000000</td>\n",
              "      <td>0.0789</td>\n",
              "      <td>0.6920</td>\n",
              "      <td>134.992</td>\n",
              "      <td>178013</td>\n",
              "      <td>4</td>\n",
              "      <td>1</td>\n",
              "    </tr>\n",
              "    <tr>\n",
              "      <th>15</th>\n",
              "      <td>0.684</td>\n",
              "      <td>0.6400</td>\n",
              "      <td>5</td>\n",
              "      <td>-9.906</td>\n",
              "      <td>0</td>\n",
              "      <td>0.0309</td>\n",
              "      <td>0.221000</td>\n",
              "      <td>0.010200</td>\n",
              "      <td>0.1790</td>\n",
              "      <td>0.7770</td>\n",
              "      <td>106.023</td>\n",
              "      <td>234267</td>\n",
              "      <td>4</td>\n",
              "      <td>0</td>\n",
              "    </tr>\n",
              "    <tr>\n",
              "      <th>16</th>\n",
              "      <td>0.850</td>\n",
              "      <td>0.8530</td>\n",
              "      <td>8</td>\n",
              "      <td>-5.650</td>\n",
              "      <td>1</td>\n",
              "      <td>0.1230</td>\n",
              "      <td>0.015500</td>\n",
              "      <td>0.000000</td>\n",
              "      <td>0.1050</td>\n",
              "      <td>0.7340</td>\n",
              "      <td>142.030</td>\n",
              "      <td>136901</td>\n",
              "      <td>4</td>\n",
              "      <td>1</td>\n",
              "    </tr>\n",
              "    <tr>\n",
              "      <th>17</th>\n",
              "      <td>0.745</td>\n",
              "      <td>0.4560</td>\n",
              "      <td>8</td>\n",
              "      <td>-9.482</td>\n",
              "      <td>1</td>\n",
              "      <td>0.0874</td>\n",
              "      <td>0.440000</td>\n",
              "      <td>0.000000</td>\n",
              "      <td>0.0720</td>\n",
              "      <td>0.1240</td>\n",
              "      <td>94.032</td>\n",
              "      <td>314367</td>\n",
              "      <td>4</td>\n",
              "      <td>0</td>\n",
              "    </tr>\n",
              "    <tr>\n",
              "      <th>18</th>\n",
              "      <td>0.754</td>\n",
              "      <td>0.4750</td>\n",
              "      <td>1</td>\n",
              "      <td>-10.889</td>\n",
              "      <td>1</td>\n",
              "      <td>0.1540</td>\n",
              "      <td>0.523000</td>\n",
              "      <td>0.000000</td>\n",
              "      <td>0.1130</td>\n",
              "      <td>0.2350</td>\n",
              "      <td>117.006</td>\n",
              "      <td>201384</td>\n",
              "      <td>4</td>\n",
              "      <td>1</td>\n",
              "    </tr>\n",
              "    <tr>\n",
              "      <th>19</th>\n",
              "      <td>0.797</td>\n",
              "      <td>0.8520</td>\n",
              "      <td>8</td>\n",
              "      <td>-5.202</td>\n",
              "      <td>1</td>\n",
              "      <td>0.2410</td>\n",
              "      <td>0.055500</td>\n",
              "      <td>0.000024</td>\n",
              "      <td>0.0536</td>\n",
              "      <td>0.4800</td>\n",
              "      <td>136.035</td>\n",
              "      <td>102353</td>\n",
              "      <td>4</td>\n",
              "      <td>1</td>\n",
              "    </tr>\n",
              "    <tr>\n",
              "      <th>20</th>\n",
              "      <td>0.798</td>\n",
              "      <td>0.8350</td>\n",
              "      <td>9</td>\n",
              "      <td>-3.832</td>\n",
              "      <td>1</td>\n",
              "      <td>0.2020</td>\n",
              "      <td>0.165000</td>\n",
              "      <td>0.000000</td>\n",
              "      <td>0.1120</td>\n",
              "      <td>0.6090</td>\n",
              "      <td>150.040</td>\n",
              "      <td>139240</td>\n",
              "      <td>4</td>\n",
              "      <td>1</td>\n",
              "    </tr>\n",
              "    <tr>\n",
              "      <th>21</th>\n",
              "      <td>0.438</td>\n",
              "      <td>0.0825</td>\n",
              "      <td>9</td>\n",
              "      <td>-21.686</td>\n",
              "      <td>0</td>\n",
              "      <td>0.0695</td>\n",
              "      <td>0.983000</td>\n",
              "      <td>0.074900</td>\n",
              "      <td>0.0461</td>\n",
              "      <td>0.3700</td>\n",
              "      <td>106.275</td>\n",
              "      <td>270000</td>\n",
              "      <td>5</td>\n",
              "      <td>0</td>\n",
              "    </tr>\n",
              "    <tr>\n",
              "      <th>22</th>\n",
              "      <td>0.802</td>\n",
              "      <td>0.5490</td>\n",
              "      <td>5</td>\n",
              "      <td>-8.600</td>\n",
              "      <td>0</td>\n",
              "      <td>0.0631</td>\n",
              "      <td>0.268000</td>\n",
              "      <td>0.004960</td>\n",
              "      <td>0.0984</td>\n",
              "      <td>0.4980</td>\n",
              "      <td>138.984</td>\n",
              "      <td>184627</td>\n",
              "      <td>4</td>\n",
              "      <td>1</td>\n",
              "    </tr>\n",
              "    <tr>\n",
              "      <th>23</th>\n",
              "      <td>0.600</td>\n",
              "      <td>0.5350</td>\n",
              "      <td>4</td>\n",
              "      <td>-12.028</td>\n",
              "      <td>1</td>\n",
              "      <td>0.3760</td>\n",
              "      <td>0.274000</td>\n",
              "      <td>0.000000</td>\n",
              "      <td>0.0984</td>\n",
              "      <td>0.2050</td>\n",
              "      <td>180.036</td>\n",
              "      <td>176000</td>\n",
              "      <td>3</td>\n",
              "      <td>1</td>\n",
              "    </tr>\n",
              "    <tr>\n",
              "      <th>24</th>\n",
              "      <td>0.729</td>\n",
              "      <td>0.5330</td>\n",
              "      <td>9</td>\n",
              "      <td>-10.104</td>\n",
              "      <td>0</td>\n",
              "      <td>0.4440</td>\n",
              "      <td>0.747000</td>\n",
              "      <td>0.000005</td>\n",
              "      <td>0.0848</td>\n",
              "      <td>0.4220</td>\n",
              "      <td>155.999</td>\n",
              "      <td>225953</td>\n",
              "      <td>4</td>\n",
              "      <td>0</td>\n",
              "    </tr>\n",
              "  </tbody>\n",
              "</table>\n",
              "</div>"
            ],
            "text/plain": [
              "    danceability  energy  key  ...  duration_ms  time_signature  liked\n",
              "0          0.803  0.6240    7  ...       304524               4      0\n",
              "1          0.762  0.7030   10  ...       247178               4      1\n",
              "2          0.261  0.0149    1  ...       286987               4      0\n",
              "3          0.722  0.7360    3  ...       208920               4      1\n",
              "4          0.787  0.5720    1  ...       179413               4      1\n",
              "5          0.778  0.6320    8  ...       224029               4      1\n",
              "6          0.666  0.5890    0  ...       146053               4      1\n",
              "7          0.922  0.7120    7  ...       161800               4      1\n",
              "8          0.794  0.6590    7  ...       247460               4      0\n",
              "9          0.853  0.6680    3  ...       165363               4      1\n",
              "10         0.297  0.9930    9  ...       182427               4      0\n",
              "11         0.816  0.4330    1  ...       225000               4      1\n",
              "12         0.297  0.9730    1  ...       170520               4      0\n",
              "13         0.564  0.7430    6  ...       185667               4      1\n",
              "14         0.640  0.9570    8  ...       178013               4      1\n",
              "15         0.684  0.6400    5  ...       234267               4      0\n",
              "16         0.850  0.8530    8  ...       136901               4      1\n",
              "17         0.745  0.4560    8  ...       314367               4      0\n",
              "18         0.754  0.4750    1  ...       201384               4      1\n",
              "19         0.797  0.8520    8  ...       102353               4      1\n",
              "20         0.798  0.8350    9  ...       139240               4      1\n",
              "21         0.438  0.0825    9  ...       270000               5      0\n",
              "22         0.802  0.5490    5  ...       184627               4      1\n",
              "23         0.600  0.5350    4  ...       176000               3      1\n",
              "24         0.729  0.5330    9  ...       225953               4      0\n",
              "\n",
              "[25 rows x 14 columns]"
            ]
          },
          "metadata": {},
          "execution_count": 19
        }
      ]
    },
    {
      "cell_type": "code",
      "metadata": {
        "colab": {
          "base_uri": "https://localhost:8080/"
        },
        "id": "nUpiJp5CjALp",
        "outputId": "bcb5a9df-4793-4f92-ec9d-4ed743a70559"
      },
      "source": [
        "df.shape"
      ],
      "execution_count": 20,
      "outputs": [
        {
          "output_type": "execute_result",
          "data": {
            "text/plain": [
              "(195, 14)"
            ]
          },
          "metadata": {},
          "execution_count": 20
        }
      ]
    },
    {
      "cell_type": "code",
      "metadata": {
        "id": "ivldanWveQEi"
      },
      "source": [
        "X = df.iloc[:,0:4]\n",
        "# X = df[[\"Area\", \"MajorAxisLength\", \"MinorAxisLength\"]]\n",
        "y = df.iloc[:, -1]"
      ],
      "execution_count": 21,
      "outputs": []
    },
    {
      "cell_type": "code",
      "metadata": {
        "colab": {
          "base_uri": "https://localhost:8080/"
        },
        "id": "wBDeTA6zecG_",
        "outputId": "9303169c-f758-4ce2-e38d-30e097797b11"
      },
      "source": [
        "y"
      ],
      "execution_count": 22,
      "outputs": [
        {
          "output_type": "execute_result",
          "data": {
            "text/plain": [
              "0      0\n",
              "1      1\n",
              "2      0\n",
              "3      1\n",
              "4      1\n",
              "      ..\n",
              "190    0\n",
              "191    0\n",
              "192    0\n",
              "193    1\n",
              "194    1\n",
              "Name: liked, Length: 195, dtype: int64"
            ]
          },
          "metadata": {},
          "execution_count": 22
        }
      ]
    },
    {
      "cell_type": "code",
      "metadata": {
        "id": "YgJ3gemVbJT2"
      },
      "source": [
        "X_train, X_test, y_train, y_test = train_test_split(X, y, test_size = 0.33, stratify = y)"
      ],
      "execution_count": 23,
      "outputs": []
    },
    {
      "cell_type": "code",
      "metadata": {
        "colab": {
          "base_uri": "https://localhost:8080/"
        },
        "id": "Mc3SCITxcJqE",
        "outputId": "c3bb0d68-d194-432a-80b7-abf7d483feab"
      },
      "source": [
        "len(X_test), len(X_train)\n",
        "#ukuran data setelah dibagi"
      ],
      "execution_count": 24,
      "outputs": [
        {
          "output_type": "execute_result",
          "data": {
            "text/plain": [
              "(65, 130)"
            ]
          },
          "metadata": {},
          "execution_count": 24
        }
      ]
    },
    {
      "cell_type": "code",
      "metadata": {
        "id": "NkCPDeEOcVFk"
      },
      "source": [
        "list_kernel = [\"linear\", \"rbf\", \"poly\", \"sigmoid\"]"
      ],
      "execution_count": 25,
      "outputs": []
    },
    {
      "cell_type": "code",
      "metadata": {
        "id": "lYUWLMoYdaaU"
      },
      "source": [
        "list_model_svm =[]\n",
        "for i in list_kernel:\n",
        "  temporary_model = svm.SVC(kernel=i)\n",
        "  temporary_model.fit(X_train, y_train)\n",
        "  list_model_svm.append(temporary_model)"
      ],
      "execution_count": 26,
      "outputs": []
    },
    {
      "cell_type": "code",
      "metadata": {
        "colab": {
          "base_uri": "https://localhost:8080/"
        },
        "id": "ByxmyarpfHkN",
        "outputId": "f06020f9-fc42-4035-8a31-41f9002d6c4b"
      },
      "source": [
        "list_model_svm"
      ],
      "execution_count": 27,
      "outputs": [
        {
          "output_type": "execute_result",
          "data": {
            "text/plain": [
              "[SVC(C=1.0, break_ties=False, cache_size=200, class_weight=None, coef0=0.0,\n",
              "     decision_function_shape='ovr', degree=3, gamma='scale', kernel='linear',\n",
              "     max_iter=-1, probability=False, random_state=None, shrinking=True,\n",
              "     tol=0.001, verbose=False),\n",
              " SVC(C=1.0, break_ties=False, cache_size=200, class_weight=None, coef0=0.0,\n",
              "     decision_function_shape='ovr', degree=3, gamma='scale', kernel='rbf',\n",
              "     max_iter=-1, probability=False, random_state=None, shrinking=True,\n",
              "     tol=0.001, verbose=False),\n",
              " SVC(C=1.0, break_ties=False, cache_size=200, class_weight=None, coef0=0.0,\n",
              "     decision_function_shape='ovr', degree=3, gamma='scale', kernel='poly',\n",
              "     max_iter=-1, probability=False, random_state=None, shrinking=True,\n",
              "     tol=0.001, verbose=False),\n",
              " SVC(C=1.0, break_ties=False, cache_size=200, class_weight=None, coef0=0.0,\n",
              "     decision_function_shape='ovr', degree=3, gamma='scale', kernel='sigmoid',\n",
              "     max_iter=-1, probability=False, random_state=None, shrinking=True,\n",
              "     tol=0.001, verbose=False)]"
            ]
          },
          "metadata": {},
          "execution_count": 27
        }
      ]
    },
    {
      "cell_type": "code",
      "metadata": {
        "colab": {
          "base_uri": "https://localhost:8080/"
        },
        "id": "Zp8w3L6sdcD9",
        "outputId": "a7357f38-d59a-42b6-f628-37188a197c1b"
      },
      "source": [
        "#build model\n",
        "model_svr = svm.SVR(kernel=\"linear\")\n",
        "model_svm = svm.SVC(kernel=\"poly\")\n",
        "#training model\n",
        "model_svm.fit(X_train, y_train)"
      ],
      "execution_count": 28,
      "outputs": [
        {
          "output_type": "execute_result",
          "data": {
            "text/plain": [
              "SVC(C=1.0, break_ties=False, cache_size=200, class_weight=None, coef0=0.0,\n",
              "    decision_function_shape='ovr', degree=3, gamma='scale', kernel='poly',\n",
              "    max_iter=-1, probability=False, random_state=None, shrinking=True,\n",
              "    tol=0.001, verbose=False)"
            ]
          },
          "metadata": {},
          "execution_count": 28
        }
      ]
    },
    {
      "cell_type": "code",
      "metadata": {
        "colab": {
          "base_uri": "https://localhost:8080/"
        },
        "id": "JEkbDoRne0qc",
        "outputId": "ec8b4ff9-be8e-4b27-ec12-a8d3457c3628"
      },
      "source": [
        "#buar variabel hasil prediksi pada data test(uji)\n",
        "predict_svm = model_svm.predict(X_test)\n",
        "\n",
        "predict_svm"
      ],
      "execution_count": 29,
      "outputs": [
        {
          "output_type": "execute_result",
          "data": {
            "text/plain": [
              "array([1, 1, 1, 1, 0, 0, 1, 1, 1, 0, 1, 0, 1, 1, 1, 1, 0, 1, 1, 1, 1, 1,\n",
              "       1, 1, 0, 1, 1, 1, 1, 1, 1, 1, 0, 1, 1, 1, 0, 1, 1, 1, 1, 0, 1, 1,\n",
              "       1, 1, 1, 1, 1, 1, 1, 1, 1, 1, 0, 1, 1, 1, 0, 1, 1, 1, 1, 0, 1])"
            ]
          },
          "metadata": {},
          "execution_count": 29
        }
      ]
    },
    {
      "cell_type": "code",
      "metadata": {
        "colab": {
          "base_uri": "https://localhost:8080/"
        },
        "id": "k0Xqu5Yag7EL",
        "outputId": "77798148-c2de-4a34-dce0-25709a4b3afc"
      },
      "source": [
        "print(classification_report(y_test, predict_svm))"
      ],
      "execution_count": 30,
      "outputs": [
        {
          "output_type": "stream",
          "name": "stdout",
          "text": [
            "              precision    recall  f1-score   support\n",
            "\n",
            "           0       0.92      0.34      0.50        32\n",
            "           1       0.60      0.97      0.74        33\n",
            "\n",
            "    accuracy                           0.66        65\n",
            "   macro avg       0.76      0.66      0.62        65\n",
            "weighted avg       0.76      0.66      0.62        65\n",
            "\n"
          ]
        }
      ]
    },
    {
      "cell_type": "code",
      "metadata": {
        "colab": {
          "base_uri": "https://localhost:8080/"
        },
        "id": "VIVQvsldgeSK",
        "outputId": "ad493683-d528-456a-be5b-ad818e501e33"
      },
      "source": [
        "print(confusion_matrix(y_test, predict_svm))"
      ],
      "execution_count": 31,
      "outputs": [
        {
          "output_type": "stream",
          "name": "stdout",
          "text": [
            "[[11 21]\n",
            " [ 1 32]]\n"
          ]
        }
      ]
    },
    {
      "cell_type": "code",
      "metadata": {
        "colab": {
          "base_uri": "https://localhost:8080/"
        },
        "id": "37cAMiBwhWCN",
        "outputId": "5431c0c4-c334-430d-928f-d91b6f5b4da2"
      },
      "source": [
        "print(fbeta_score(y_test, predict_svm, beta=0.5, average=\"micro\"))"
      ],
      "execution_count": 32,
      "outputs": [
        {
          "output_type": "stream",
          "name": "stdout",
          "text": [
            "0.6615384615384615\n"
          ]
        }
      ]
    },
    {
      "cell_type": "code",
      "metadata": {
        "id": "g2w6SdQ1iFGw"
      },
      "source": [
        "#print(roc_auc_score(y_test, predict_svm, multiclass))"
      ],
      "execution_count": 33,
      "outputs": []
    }
  ]
}